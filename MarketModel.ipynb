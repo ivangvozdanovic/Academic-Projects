{
  "nbformat": 4,
  "nbformat_minor": 0,
  "metadata": {
    "colab": {
      "provenance": []
    },
    "kernelspec": {
      "name": "python3",
      "display_name": "Python 3"
    },
    "language_info": {
      "name": "python"
    }
  },
  "cells": [
    {
      "cell_type": "markdown",
      "metadata": {
        "id": "P2b5_mPVhdjE"
      },
      "source": []
    },
    {
      "cell_type": "code",
      "metadata": {
        "id": "zGYChU_cBmqw"
      },
      "source": [
        "import numpy as np"
      ],
      "execution_count": null,
      "outputs": []
    },
    {
      "cell_type": "code",
      "metadata": {
        "id": "Lt4v6M9l8HSZ"
      },
      "source": [
        "class MarketModel:\n",
        "\n",
        "  #parameters\n",
        "  #, t, r_hist, R_hist, P_hist, r_cur, s0, s_hist, s_hur, w_hist, w_cur, eta, M, c, mu, d\n",
        "\n",
        "  #class constructor\n",
        "  # def __init__(self, T, t, r_hist, R_hist, P_hist, r_cur, s0, s_hist, s_hur, w_hist, w_cur, eta, M, c, mu, d): Most of these are implicitly defined\n",
        "    # self.d = d\n",
        "    # self.T = T\n",
        "    # self.t = t\n",
        "    # self.r_hist = r_hist\n",
        "    # self.R_hist = R_hist\n",
        "    # self.P_hist = P_hist\n",
        "    # self.r_cur = r_cur\n",
        "    # self.s0 = s0\n",
        "    # self.s_hist = s_hist\n",
        "    # self.s_cur = s_cur\n",
        "    # self.w_hist = w_hist\n",
        "    # self.w_cur = w_cur\n",
        "    # self.eta = eta\n",
        "    # self.M = M\n",
        "    # self.c = c\n",
        "    # self.mu = mu\n",
        "\n",
        "  #Initialize the market model by specifying the number of time periods, the trade friction parameter, the covariance matrix, the market impact factors, the drift,\n",
        "  #and the number of assets\n",
        "  def __init__(self, T=5, eta=0, M=np.array([[1,0],[0,1]]), c=np.array([0,0]), mu=np.array([0,0]), d=2):\n",
        "    self.d = d\n",
        "    self.T = T\n",
        "    self.r_cur = 1\n",
        "    self.s0 = 100*np.ones((self.d))\n",
        "    self.w_cur = (1/self.d)*np.ones((self.d))\n",
        "    self.eta = eta\n",
        "    self.M = M\n",
        "    self.c = c\n",
        "    self.mu = mu\n",
        "    self.reset()\n",
        "\n",
        "  def reset(self):\n",
        "    self.t = 0\n",
        "    self.s_hist = np.zeros((self.d, self.T+1))\n",
        "    self.w_hist = np.zeros((self.d, self.T+1))\n",
        "    self.r_hist = np.zeros((self.T+1))\n",
        "    self.P_hist = np.zeros((self.T+1))\n",
        "    self.R_hist = np.zeros((self.T+1))\n",
        "    self.s_cur = self.s0\n",
        "    self.s_hist[:,0] = self.s0\n",
        "    self.w_hist[:,0] = np.ones((self.d))/self.d\n",
        "    self.R_hist[0] = 1\n",
        "\n",
        "  def step(self, w):\n",
        "    if self.t >= self.T:\n",
        "      print(\"Trading period terminated (t = T), no more actions may be taken!\")\n",
        "\n",
        "    if np.shape(w)[0] != self.d :\n",
        "      print(\"Provided weights are not the correct size: Need more weights\")\n",
        "\n",
        "    elif np.shape(np.shape(w))[0] != 1:\n",
        "      print(\"Provided weights are not the correct size: Incorrect Formatting\")\n",
        "\n",
        "    else: # Safety check, don't execute anything if the weights are mis-sized\n",
        "\n",
        "\n",
        "      # ASSUMES w IS ONE DIMENSIONAL VECTOR (hence the above elif)\n",
        "      if (w<0).any or np.abs(np.sum(w)-1)<0.00001: # negative weights or not normalized?\n",
        "        w=forceSimplex(w)\n",
        "\n",
        "      # Step Forward\n",
        "      self.t = self.t + 1\n",
        "\n",
        "      # Update weights\n",
        "      self.w_cur = w;\n",
        "      self.w_hist[:, self.t] = self.w_cur\n",
        "\n",
        "      if self.t == 1:\n",
        "        u_delta = 0\n",
        "        self.P_hist[0] = 1\n",
        "\n",
        "      else:\n",
        "        self.P_hist[self.t] = ( 1 + self.r_hist[self.t-1])* self.P_hist[self.t - 1]\n",
        "        u_cur = self.w_cur * self.P_hist[self.t]/self.s_cur\n",
        "        u_last = self.w_hist[:,self.t-1]*self.P_hist[self.t-1]/self.s_hist[:,self.t-1]\n",
        "        u_delta = u_cur-u_last\n",
        "\n",
        "      xi_cur = np.random.normal(loc=0.0, scale=1.0, size=self.d)\n",
        "      self.s_last = self.s_cur\n",
        "      self.s_cur = self.genPriceStep(du=u_delta, xi=xi_cur)\n",
        "      self.s_hist[:,self.t] = self.s_cur\n",
        "      self.s_cur=self.genPriceStep(du=u_delta, xi=xi_cur)\n",
        "      r_s_cur = (self.s_cur-self.s_last)/self.s_last;\n",
        "      self.r_cur = np.dot(self.w_cur,r_s_cur) - self.eta*np.dot(u_delta,u_delta) # Updated 3-18-21: takes change in positions rather than changes in weights\n",
        "      self.r_hist[self.t] = self.r_cur\n",
        "      self.R_hist[self.t] = self.getTotalReturn()\n",
        "\n",
        "  def getTotalReturn(self):\n",
        "    return (np.prod(self.r_hist+1))\n",
        "\n",
        "  def genPriceStep (self, du, xi):\n",
        "    S = np.log(self.s_cur)\n",
        "    dS = self.mu+self.marketImpact(du)+self.M @ xi\n",
        "    return np.exp(S+dS)\n",
        "\n",
        "  def marketImpact(self, du):\n",
        "    return self.c*np.sign(du)*np.sqrt(np.abs(du))\n",
        "\n",
        "  def getState(self):\n",
        "    stateDictionary = {\"t\":self.t, \"s_hist\":self.s_hist[:,0:self.t+1], \"w_hist\":self.w_hist[:,0:self.t+1], \"r_hist\":self.r_hist[0:self.t+1], \"cum_Return\":self.R_hist[0:self.t+1]}\n",
        "    return stateDictionary\n",
        "\n",
        "  def makeTuple(self):\n",
        "    stateTuple = {\"s\":tuple(self.s_hist[:,self.t-1]),\"a\":tuple(self.w_hist[:,self.t]),\"r\":self.r_hist[self.t],\"sprime\":tuple(self.s_hist[:,self.t])}\n",
        "    return stateTuple\n",
        "\n",
        "\n",
        "def forceSimplex(weights): # Force all weights to be positive, and normalize all weights\n",
        "  weights[weights<0]=0\n",
        "  weights = weights/np.sum(weights)\n",
        "  return weights"
      ],
      "execution_count": null,
      "outputs": []
    },
    {
      "cell_type": "code",
      "metadata": {
        "id": "beJac8ja_NFU",
        "colab": {
          "base_uri": "https://localhost:8080/"
        },
        "outputId": "ed135a55-5e7e-4ac0-c4db-9b8faa04b6a8"
      },
      "source": [
        "m = MarketModel(T=5, eta=0, M=np.array([[0.2,-0.1,0],[-0.2,0.2,-0.2],[0,-0.1,0.2]]), c=np.array([0,0,0]), mu=np.array([1,0.00,0.00]), d=3)\n",
        "m.step(forceSimplex(np.array([1,1,1])))\n",
        "state = m.getState()\n",
        "print(state)"
      ],
      "execution_count": null,
      "outputs": [
        {
          "output_type": "stream",
          "name": "stdout",
          "text": [
            "{'t': 1, 's_hist': array([[100.        , 249.58946984],\n",
            "       [100.        ,  70.75028133],\n",
            "       [100.        , 153.93594858]]), 'w_hist': array([[0.33333333, 0.33333333],\n",
            "       [0.33333333, 0.33333333],\n",
            "       [0.33333333, 0.33333333]]), 'r_hist': array([0.        , 2.03322607]), 'cum_Return': array([1.        , 3.03322607])}\n"
          ]
        }
      ]
    },
    {
      "cell_type": "code",
      "metadata": {
        "colab": {
          "base_uri": "https://localhost:8080/"
        },
        "id": "NzKgLocx1_Xd",
        "outputId": "1cc1a042-2666-49b4-ce29-46d29c1c41ee"
      },
      "source": [
        "print(m.makeTuple())"
      ],
      "execution_count": null,
      "outputs": [
        {
          "output_type": "stream",
          "name": "stdout",
          "text": [
            "{'s': (100.0, 100.0, 100.0), 'a': (0.3333333333333333, 0.3333333333333333, 0.3333333333333333), 'r': 2.033226067586663, 'sprime': (249.5894698376738, 70.75028133079665, 153.93594858044688)}\n"
          ]
        }
      ]
    },
    {
      "cell_type": "code",
      "metadata": {
        "colab": {
          "base_uri": "https://localhost:8080/"
        },
        "id": "QKGu8_LBYlY2",
        "outputId": "7bdcb110-73a4-4da3-f178-ed22c4420a47"
      },
      "source": [
        "state=m.getState()\n",
        "w=state[\"s_hist\"][:,state[\"t\"]]-state[\"s_hist\"][:,state[\"t\"]-1]\n",
        "print(w)\n",
        "w=forceSimplex(w)\n",
        "print(w)"
      ],
      "execution_count": null,
      "outputs": [
        {
          "output_type": "stream",
          "name": "stdout",
          "text": [
            "[149.58946984 -29.24971867  53.93594858]\n",
            "[0.73499158 0.         0.26500842]\n"
          ]
        }
      ]
    },
    {
      "cell_type": "code",
      "metadata": {
        "colab": {
          "base_uri": "https://localhost:8080/"
        },
        "id": "_sRxrmI9Zc3H",
        "outputId": "5dc1f951-7b92-4d17-e11a-64191c8c072e"
      },
      "source": [
        "print(m.getState())"
      ],
      "execution_count": null,
      "outputs": [
        {
          "output_type": "stream",
          "name": "stdout",
          "text": [
            "{'t': 1, 's_hist': array([[100.        , 249.58946984],\n",
            "       [100.        ,  70.75028133],\n",
            "       [100.        , 153.93594858]]), 'w_hist': array([[0.33333333, 0.33333333],\n",
            "       [0.33333333, 0.33333333],\n",
            "       [0.33333333, 0.33333333]]), 'r_hist': array([0.        , 2.03322607]), 'cum_Return': array([1.        , 3.03322607])}\n"
          ]
        }
      ]
    },
    {
      "cell_type": "markdown",
      "metadata": {
        "id": "gao9U_mO8ROX"
      },
      "source": [
        "https://github.com/SIAM-FM21-PC/MathWorks/blob/main/README.md is the GitHub repository of the SIAM FE"
      ]
    },
    {
      "cell_type": "code",
      "metadata": {
        "id": "aLAUlZatxatm"
      },
      "source": [
        "x= np.array([1,2])"
      ],
      "execution_count": null,
      "outputs": []
    },
    {
      "cell_type": "code",
      "metadata": {
        "colab": {
          "base_uri": "https://localhost:8080/"
        },
        "id": "m-kaHKbU4sFF",
        "outputId": "7efa646b-4326-43c5-be07-5e58ec002762"
      },
      "source": [
        "print(tuple(x))"
      ],
      "execution_count": null,
      "outputs": [
        {
          "output_type": "stream",
          "name": "stdout",
          "text": [
            "(1, 2)\n"
          ]
        }
      ]
    },
    {
      "cell_type": "code",
      "metadata": {
        "id": "PzXAIc0p4utc"
      },
      "source": [],
      "execution_count": null,
      "outputs": []
    }
  ]
}